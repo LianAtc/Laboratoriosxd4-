{
 "cells": [
  {
   "cell_type": "code",
   "execution_count": 13,
   "id": "d68e7623",
   "metadata": {},
   "outputs": [],
   "source": [
    "import numpy as np"
   ]
  },
  {
   "cell_type": "code",
   "execution_count": 14,
   "id": "b54aa738",
   "metadata": {},
   "outputs": [],
   "source": [
    "import matplotlib.pyplot as plt"
   ]
  },
  {
   "cell_type": "markdown",
   "id": "7d04f8b7",
   "metadata": {},
   "source": [
    "## Codigo ensamblador que efectua el producto interno entre dos vectores float"
   ]
  },
  {
   "cell_type": "code",
   "execution_count": 15,
   "id": "99a0221a",
   "metadata": {},
   "outputs": [
    {
     "name": "stdout",
     "output_type": "stream",
     "text": [
      "Writing asmFloatInnerProd.asm\n"
     ]
    }
   ],
   "source": [
    "%%file asmFloatInnerProd.asm\n",
    "\n",
    "global asmFloatInnerProd\n",
    "    section .text\n",
    "\n",
    "asmFloatInnerProd:\n",
    "    xorpd xmm0, xmm0\n",
    "    xorpd xmm1, xmm1\n",
    "    xorpd xmm2, xmm2\n",
    "    cmp rdx, 0\n",
    "    je done\n",
    "next:\n",
    "    movss xmm0, [rdi]\n",
    "    movss xmm1, [rsi]\n",
    "    mulss xmm0, xmm1\n",
    "    addss xmm2, xmm0\n",
    "    add rdi, 4\n",
    "    add rsi, 4\n",
    "    sub rdx, 1\n",
    "    jnz next \n",
    "done:\n",
    "    movss xmm0, xmm2\n",
    "    ret\n"
   ]
  },
  {
   "cell_type": "markdown",
   "id": "6261f225",
   "metadata": {},
   "source": [
    "## Archivo de cabecera de la función en ensamblador para explicitar los parametros y sus tipos de dato"
   ]
  },
  {
   "cell_type": "code",
   "execution_count": 16,
   "id": "43594742",
   "metadata": {},
   "outputs": [
    {
     "name": "stdout",
     "output_type": "stream",
     "text": [
      "Writing asmFloatInnerProd.c\n"
     ]
    }
   ],
   "source": [
    "%%file asmFloatInnerProd.c\n",
    "extern float asmFloatInnerProd(float *v1, float *v2, int N);"
   ]
  },
  {
   "cell_type": "markdown",
   "id": "a9249629",
   "metadata": {},
   "source": [
    "## Reglas para generar la libreria compartida que se vinculara con python"
   ]
  },
  {
   "cell_type": "code",
   "execution_count": 17,
   "id": "f18f5a77",
   "metadata": {},
   "outputs": [],
   "source": [
    "! nasm -f elf64 asmFloatInnerProd.asm -o asmFloatInnerProd.o\n",
    "! gcc -shared asmFloatInnerProd.o asmFloatInnerProd.c -o asmFloatInnerProd.so"
   ]
  },
  {
   "cell_type": "code",
   "execution_count": 18,
   "id": "027f7030",
   "metadata": {},
   "outputs": [],
   "source": [
    "import ctypes"
   ]
  },
  {
   "cell_type": "markdown",
   "id": "c6cf0ec6",
   "metadata": {},
   "source": [
    "## Funcion que vincula la libreria compartida en ASM con Python"
   ]
  },
  {
   "cell_type": "code",
   "execution_count": 19,
   "id": "dedc3626",
   "metadata": {},
   "outputs": [],
   "source": [
    "def ctypes_asmFloatInnerProd():\n",
    "    # indicar la ruta de la shared library\n",
    "    libfile = './asmFloatInnerProd.so'\n",
    "\n",
    "    # cargar la shared library\n",
    "    lib = ctypes.CDLL(libfile)\n",
    "\n",
    "    # tipo de dato de los argumentos\n",
    "    lib.asmFloatInnerProd.argtypes = [\n",
    "        np.ctypeslib.ndpointer(dtype=np.float32),\n",
    "        np.ctypeslib.ndpointer(dtype=np.float32),\n",
    "        ctypes.c_int\n",
    "    ]\n",
    "    \n",
    "    #Tipo de dato que devuelve\n",
    "    lib.asmFloatInnerProd.restype = ctypes.c_float\n",
    "    \n",
    "    # funcion configurada\n",
    "    return lib.asmFloatInnerProd"
   ]
  },
  {
   "cell_type": "code",
   "execution_count": 20,
   "id": "27ce1233",
   "metadata": {},
   "outputs": [
    {
     "name": "stdout",
     "output_type": "stream",
     "text": [
      "Writing cFloatInnerProd.c\n"
     ]
    }
   ],
   "source": [
    "%%file cFloatInnerProd.c\n",
    "\n",
    "float cFloatInnerProd(float *v1, float *v2, int N){\n",
    "    float sum = 0;\n",
    "    for (int i = 0; i < N; i++){\n",
    "        sum += v1[i] * v2[i];\n",
    "    }\n",
    "    return = sum;\n",
    "}"
   ]
  },
  {
   "cell_type": "markdown",
   "id": "cf62e0d9",
   "metadata": {},
   "source": [
    "## Reglas para generar la libreria compartida de código en C"
   ]
  },
  {
   "cell_type": "code",
   "execution_count": 21,
   "id": "d1d7d526",
   "metadata": {},
   "outputs": [
    {
     "name": "stdout",
     "output_type": "stream",
     "text": [
      "\u001b[01m\u001b[KcFloatInnerProd.c:\u001b[m\u001b[K In function ‘\u001b[01m\u001b[KcFloatInnerProd\u001b[m\u001b[K’:\n",
      "\u001b[01m\u001b[KcFloatInnerProd.c:9:12:\u001b[m\u001b[K \u001b[01;31m\u001b[Kerror: \u001b[m\u001b[Kexpected expression before ‘\u001b[01m\u001b[K=\u001b[m\u001b[K’ token\n",
      "    9 |     return \u001b[01;31m\u001b[K=\u001b[m\u001b[K sum;\n",
      "      |            \u001b[01;31m\u001b[K^\u001b[m\u001b[K\n",
      "\u001b[01m\u001b[KcFloatInnerProd.c:10:1:\u001b[m\u001b[K \u001b[01;31m\u001b[Kerror: \u001b[m\u001b[Kcontrol reaches end of non-void function [\u001b[01;31m\u001b[K-Werror=return-type\u001b[m\u001b[K]\n",
      "   10 | \u001b[01;31m\u001b[K}\u001b[m\u001b[K\n",
      "      | \u001b[01;31m\u001b[K^\u001b[m\u001b[K\n",
      "cc1: all warnings being treated as errors\n",
      "\u001b[01m\u001b[Kgcc:\u001b[m\u001b[K \u001b[01;31m\u001b[Kerror: \u001b[m\u001b[KcFloatInnerProd.o: No such file or directory\n",
      "\u001b[01m\u001b[Kgcc:\u001b[m\u001b[K \u001b[01;31m\u001b[Kfatal error: \u001b[m\u001b[Kno input files\n",
      "compilation terminated.\n"
     ]
    }
   ],
   "source": [
    "# para generar el object file\n",
    "! gcc -c -Wall -Werror -fpic cFloatInnerProd.c\n",
    "#muestre errorres, resalte errores, pic (position independend code)\n",
    "\n",
    "# para crear la shared library\n",
    "! gcc -shared cFloatInnerProd.o -o cFloatInnerProd.so"
   ]
  },
  {
   "cell_type": "markdown",
   "id": "364de3a7",
   "metadata": {},
   "source": [
    "## Funcion que vincula la libreria compartida en C con Python"
   ]
  },
  {
   "cell_type": "code",
   "execution_count": 10,
   "id": "7422a651",
   "metadata": {},
   "outputs": [],
   "source": [
    "def ctypes_cFloatInnerProd():\n",
    "    # indicar la ruta de la shared library\n",
    "    libfile = './cFloatInnerProd.so'\n",
    "\n",
    "    # cargar la shared library\n",
    "    lib = ctypes.CDLL(libfile)\n",
    "\n",
    "    # tipo de dato de los argumentos\n",
    "    lib.asmFloatInnerProd.argtypes = [\n",
    "        np.ctypeslib.ndpointer(dtype=np.float32),\n",
    "        np.ctypeslib.ndpointer(dtype=np.float32),\n",
    "        ctypes.c_int\n",
    "    ]\n",
    "    \n",
    "    #Tipo de dato que devuelve\n",
    "    lib.cFloatInnerProd.restype = ctypes.c_float\n",
    "    \n",
    "    # funcion configurada\n",
    "    return lib.cFloatInnerProd"
   ]
  },
  {
   "cell_type": "markdown",
   "id": "91dd975b",
   "metadata": {},
   "source": [
    "## Prueba de las dos funciones"
   ]
  },
  {
   "cell_type": "code",
   "execution_count": 11,
   "id": "71f37f2e",
   "metadata": {},
   "outputs": [],
   "source": [
    "# tam\n",
    "size = 2048\n",
    "\n",
    "# entradas\n",
    "x = np.random.rand(size,1).astype(np.float32)\n",
    "y = np.random.rand(size,1).astype(np.float32)"
   ]
  },
  {
   "cell_type": "markdown",
   "id": "edd65329",
   "metadata": {},
   "source": [
    "## Limpieza de archivos"
   ]
  },
  {
   "cell_type": "code",
   "execution_count": 12,
   "id": "dd4771e6",
   "metadata": {},
   "outputs": [],
   "source": [
    "! rm *.o\n",
    "! rm *.so\n",
    "! rm *.asm\n",
    "! rm *.c"
   ]
  },
  {
   "cell_type": "code",
   "execution_count": null,
   "id": "a03a06aa",
   "metadata": {},
   "outputs": [],
   "source": []
  }
 ],
 "metadata": {
  "kernelspec": {
   "display_name": "Python 3 (ipykernel)",
   "language": "python",
   "name": "python3"
  },
  "language_info": {
   "codemirror_mode": {
    "name": "ipython",
    "version": 3
   },
   "file_extension": ".py",
   "mimetype": "text/x-python",
   "name": "python",
   "nbconvert_exporter": "python",
   "pygments_lexer": "ipython3",
   "version": "3.8.10"
  }
 },
 "nbformat": 4,
 "nbformat_minor": 5
}
