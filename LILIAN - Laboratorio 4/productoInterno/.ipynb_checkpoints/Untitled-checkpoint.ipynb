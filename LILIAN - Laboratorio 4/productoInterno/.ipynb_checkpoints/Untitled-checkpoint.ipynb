{
 "cells": [
  {
   "cell_type": "code",
   "execution_count": null,
   "id": "d68e7623",
   "metadata": {},
   "outputs": [],
   "source": [
    "import numpy as np"
   ]
  },
  {
   "cell_type": "code",
   "execution_count": null,
   "id": "b54aa738",
   "metadata": {},
   "outputs": [],
   "source": [
    "import matplotlib.pyplot as plt"
   ]
  },
  {
   "cell_type": "markdown",
   "id": "353991ec",
   "metadata": {},
   "source": [
    "## Codigo ensamblador que efectua el producto interno entre dos vectores float"
   ]
  },
  {
   "cell_type": "code",
   "execution_count": null,
   "id": "99a0221a",
   "metadata": {},
   "outputs": [],
   "source": [
    "%%file asmFloatInnerProd.asm\n",
    "\n",
    "global asmFloatInnerProd\n",
    "    section .text\n",
    "\n",
    "asmFloatInnerProd:\n",
    "    xorpd xmm0, xmm0\n",
    "    xorpd xmm1, xmm1\n",
    "    xorpd xmm2, xmm2\n",
    "    cmp rdx, 0\n",
    "    je done\n",
    "next:\n",
    "    movss xmm0, [rdi]\n",
    "    movss xmm1, [rsi]\n",
    "    mulss xmm0, xmm1\n",
    "    addss xmm2, xmm0\n",
    "    add rdi, 4\n",
    "    add rsi, 4\n",
    "    sub rdx, 1\n",
    "    jnz next \n",
    "done:\n",
    "    movss xmm0, xmm2\n",
    "    ret\n"
   ]
  },
  {
   "cell_type": "markdown",
   "id": "489f42b6",
   "metadata": {},
   "source": [
    "## Archivo de cabecera de la función en ensamblador para explicitar los parametros y sus tipos de dato"
   ]
  },
  {
   "cell_type": "code",
   "execution_count": null,
   "id": "079f2216",
   "metadata": {},
   "outputs": [],
   "source": [
    "%%file asmFloatInnerProd.c\n",
    "extern float asmFloatInnerProd(float *v1, float *v2, int N);"
   ]
  },
  {
   "cell_type": "markdown",
   "id": "4e3906a1",
   "metadata": {},
   "source": [
    "## Reglas para generar la libreria compartida que se vinculara con python"
   ]
  },
  {
   "cell_type": "code",
   "execution_count": null,
   "id": "be9e1193",
   "metadata": {},
   "outputs": [],
   "source": [
    "! nasm -f elf64 asmFloatInnerProd.asm -o asmFloatInnerProd.o\n",
    "! gcc -shared asmFloatInnerProd.o asmFloatInnerProd.c -o asmFloatInnerProd.so"
   ]
  },
  {
   "cell_type": "code",
   "execution_count": null,
   "id": "d3380dd2",
   "metadata": {},
   "outputs": [],
   "source": [
    "import ctypes"
   ]
  },
  {
   "cell_type": "markdown",
   "id": "1a58868f",
   "metadata": {},
   "source": [
    "## Funcion que vincula la libreria compartida en ASM con Python"
   ]
  },
  {
   "cell_type": "code",
   "execution_count": null,
   "id": "8a4950f2",
   "metadata": {},
   "outputs": [],
   "source": [
    "def ctypes_asmFloatInnerProd():\n",
    "    # indicar la ruta de la shared library\n",
    "    libfile = './asmFloatInnerProd.so'\n",
    "\n",
    "    # cargar la shared library\n",
    "    lib = ctypes.CDLL(libfile)\n",
    "\n",
    "    # tipo de dato de los argumentos\n",
    "    lib.asmFloatInnerProd.argtypes = [\n",
    "        numpy.ctypeslib.ndpointer(dtype=numpy.float32),\n",
    "        numpy.ctypeslib.ndpointer(dtype=numpy.float32),\n",
    "        ctypes.c_int\n",
    "    ]\n",
    "    \n",
    "    #Tipo de dato que devuelve\n",
    "    lib.asmFloatInnerProd.restype = ctypes.c_float\n",
    "    \n",
    "    # funcion configurada\n",
    "    return lib.asmFloatInnerProd"
   ]
  },
  {
   "cell_type": "markdown",
   "id": "cc228f3b",
   "metadata": {},
   "source": []
  },
  {
   "cell_type": "code",
   "execution_count": null,
   "id": "04811210",
   "metadata": {},
   "outputs": [],
   "source": [
    "%%file cFloatInnerProd.c\n",
    "\n",
    "float cFloatInnerProd(float *v1, float *v2, int N)\n",
    "{\n",
    "    float sum = 0;\n",
    "    for (int i = 0; i < N; i++)\n",
    "    {\n",
    "        sum += v1[i] * v2[i];\n",
    "    }\n",
    "    return = sum;\n",
    "}"
   ]
  },
  {
   "cell_type": "markdown",
   "id": "f88e906c",
   "metadata": {},
   "source": [
    "## Reglas para generar la libreria compartida de código en C"
   ]
  },
  {
   "cell_type": "code",
   "execution_count": null,
   "id": "cb20de72",
   "metadata": {},
   "outputs": [],
   "source": [
    "# para generar el object file\n",
    "! gcc -c -Wall -Werror -fpic cFloatInnerProd.c\n",
    "#muestre errorres, resalte errores, pic (position independend code)\n",
    "\n",
    "# para crear la shared library\n",
    "! gcc -shared cFloatInnerProd.o -o cFloatInnerProd.so"
   ]
  },
  {
   "cell_type": "code",
   "execution_count": null,
   "id": "c86cd1d8",
   "metadata": {},
   "outputs": [],
   "source": [
    "def ctypes_cFloatInnerProd():\n",
    "    # indicar la ruta de la shared library\n",
    "    libfile = './cFloatInnerProd.so'\n",
    "\n",
    "    # cargar la shared library\n",
    "    lib = ctypes.CDLL(libfile)\n",
    "\n",
    "    # tipo de dato de los argumentos\n",
    "    lib.asmFloatInnerProd.argtypes = [\n",
    "        numpy.ctypeslib.ndpointer(dtype=numpy.float32),\n",
    "        numpy.ctypeslib.ndpointer(dtype=numpy.float32),\n",
    "        ctypes.c_int\n",
    "    ]\n",
    "    \n",
    "    #Tipo de dato que devuelve\n",
    "    lib.cFloatInnerProd.restype = ctypes.c_float\n",
    "    \n",
    "    # funcion configurada\n",
    "    return lib.cFloatInnerProd"
   ]
  },
  {
   "cell_type": "markdown",
   "id": "5cdad690",
   "metadata": {},
   "source": [
    "## Limpieza de archivos"
   ]
  },
  {
   "cell_type": "code",
   "execution_count": null,
   "id": "8482add6",
   "metadata": {},
   "outputs": [],
   "source": [
    "! rm *.o\n",
    "! rm *.so\n",
    "! rm *.asm\n",
    "! rm *.c"
   ]
  },
  {
   "cell_type": "code",
   "execution_count": null,
   "id": "1ded9d38",
   "metadata": {},
   "outputs": [],
   "source": []
  }
 ],
 "metadata": {
  "kernelspec": {
   "display_name": "Python 3 (ipykernel)",
   "language": "python",
   "name": "python3"
  },
  "language_info": {
   "codemirror_mode": {
    "name": "ipython",
    "version": 3
   },
   "file_extension": ".py",
   "mimetype": "text/x-python",
   "name": "python",
   "nbconvert_exporter": "python",
   "pygments_lexer": "ipython3",
   "version": "3.8.10"
  }
 },
 "nbformat": 4,
 "nbformat_minor": 5
}
