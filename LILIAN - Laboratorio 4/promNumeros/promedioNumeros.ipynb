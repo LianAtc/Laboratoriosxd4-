{
 "cells": [
  {
   "cell_type": "code",
   "execution_count": 70,
   "id": "49e20cfe",
   "metadata": {},
   "outputs": [
    {
     "name": "stdout",
     "output_type": "stream",
     "text": [
      "Overwriting archivo.c\n"
     ]
    }
   ],
   "source": [
    "%%file archivo.c\n",
    "\n",
    "#include <stdio.h>\n",
    "#include <stdlib.h>\n",
    "#include <time.h>\n",
    "\n",
    "void genRamdon(int LEN, int MAX, float *v);\n",
    "void cPromedio(int LEN, float *v, float *cprom);\n",
    "extern void asmPromedio(int LEN, float *v, float *asmprom);\n",
    "//  Calling conv 64 bits -> rdi       rsi       rdx\n",
    "\n",
    "int main(){\n",
    "    \n",
    "    srand(time(NULL));\n",
    "    \n",
    "    /*Para medir los tiempos*/\n",
    "    clock_t start, stop;\n",
    "    \n",
    "    float *v;\n",
    "    float asmprom, cprom;\n",
    "    int LEN = 4096*2, MAX = 100;\n",
    "    \n",
    "    v = (float *)malloc(LEN*sizeof(float));\n",
    "    \n",
    "    genRamdon(LEN, MAX, v);\n",
    "    start = clock();\n",
    "    asmPromedio(LEN, v, &asmprom);\n",
    "    stop = clock();\n",
    "    printf(\"El promedio en ASM es: %.4f\\n\", asmprom);\n",
    "    printf(\"El tiempo de asmPromedio es: %.4f us\\n\", 1e6*(float)(stop-start)/CLOCKS_PER_SEC);\n",
    "    // SALE EN MILLON DE SEGUNDOS, por eso tienes que convertir a segundos\n",
    "    // CLOCKS_PER_SEC <- 1 millon\n",
    "    \n",
    "    start = clock();\n",
    "    cPromedio(LEN, v, &cprom);\n",
    "    stop = clock();\n",
    "    printf(\"El promedio en C es: %.4f\\n\", cprom);\n",
    "    printf(\"El tiempo de cPromedio es: %.4f us\\n\", 1e6*(float)(stop-start)/CLOCKS_PER_SEC);\n",
    "    \n",
    "    return 0;\n",
    "}\n",
    "\n",
    "\n",
    "void genRamdon(int LEN, int MAX, float *v){\n",
    "    /*Funcion para generar numeros aleatorios*/\n",
    "    for(int i = 0; i < LEN; i++){\n",
    "        v[i] = rand() % MAX;\n",
    "    }\n",
    "}\n",
    "\n",
    "void cPromedio(int LEN, float *v, float *cprom){\n",
    "    float sum = 0.0;\n",
    "    for (int i = 0; i < LEN; i++){\n",
    "        sum += v[i];\n",
    "    }\n",
    "    (*cprom) = sum/(float)LEN;\n",
    "}"
   ]
  },
  {
   "cell_type": "code",
   "execution_count": 71,
   "id": "8b92abad",
   "metadata": {},
   "outputs": [
    {
     "name": "stdout",
     "output_type": "stream",
     "text": [
      "Overwriting asmPromedio.asm\n"
     ]
    }
   ],
   "source": [
    "%%file asmPromedio.asm\n",
    "\n",
    "global asmPromedio\n",
    "    section .text\n",
    "    \n",
    "asmPromedio:\n",
    "    ; Prologo\n",
    "    push rbp\n",
    "    mov rbp, rsp\n",
    "    push rsi\n",
    "    push rdi\n",
    "    push rbx\n",
    "        \n",
    "    ; Calling conv 64 bits -> LEN: rdi, *v: rsi, *asmprom: rdx\n",
    "    \n",
    "    xorps xmm0, xmm0\n",
    "    xorps xmm1, xmm1             ; sum = 0.0\n",
    "    xorps xmm2, xmm2\n",
    "    \n",
    "    cvtsi2ss xmm2, rdi           ; LEN\n",
    "    \n",
    "    cmp rdi, 0                   ; Si no tenemos datos slaimos\n",
    "    je fin\n",
    "    \n",
    "bucle:\n",
    "    movss xmm0, [rsi]              ; Direccion primer elemento\n",
    "    addss xmm1, xmm0\n",
    "    add rsi, 4\n",
    "    dec rdi                        ; Cuando este llegue a cero se levantara la bandera de cero\n",
    "    jnz bucle\n",
    "    \n",
    "    \n",
    "    divss xmm1, xmm2             ; sum/LEN\n",
    "    \n",
    "fin:\n",
    "    movss [rdx], xmm1            ; \n",
    "    \n",
    "    ; Epilogo\n",
    "    pop rdx\n",
    "    pop rdi\n",
    "    pop rsi\n",
    "    mov rsp, rbp\n",
    "    pop rbp\n",
    "    \n",
    "    ret\n",
    "    "
   ]
  },
  {
   "cell_type": "markdown",
   "id": "86106734",
   "metadata": {},
   "source": [
    "Flotante <- para el exponente tiene menos bits que el double\n",
    "double <- exponente de un double son 11 bits\n",
    "float <- exponente de un float son 8 bits\n",
    "\n",
    "SIMD <- Empaquetar"
   ]
  },
  {
   "cell_type": "markdown",
   "id": "c7742162",
   "metadata": {},
   "source": [
    "## Probando los codigos"
   ]
  },
  {
   "cell_type": "code",
   "execution_count": 66,
   "id": "3720d11c",
   "metadata": {},
   "outputs": [],
   "source": [
    "! nasm -f elf64 asmPromedio.asm -o asmPromedio.o\n",
    "! gcc archivo.c asmPromedio.o -o promedio"
   ]
  },
  {
   "cell_type": "code",
   "execution_count": 67,
   "id": "e9706155",
   "metadata": {},
   "outputs": [
    {
     "name": "stdout",
     "output_type": "stream",
     "text": [
      "El promedio en ASM es: 58.2500\r\n",
      "El tiempo de asmPromedio es: 1.0000 us\r\n",
      "El promedio en C es: 58.2500\r\n",
      "El tiempo de cPromedio es: 0.0000 us\r\n"
     ]
    }
   ],
   "source": [
    "! ./promedio"
   ]
  },
  {
   "cell_type": "markdown",
   "id": "f18509d2",
   "metadata": {},
   "source": [
    "OPtimizaciones <- Por eso parece que en c es más rapido"
   ]
  },
  {
   "cell_type": "markdown",
   "id": "5f7e8adb",
   "metadata": {},
   "source": [
    " -O0            Para que c no realice ninguna operacion"
   ]
  },
  {
   "cell_type": "code",
   "execution_count": 72,
   "id": "c8ef7076",
   "metadata": {},
   "outputs": [],
   "source": [
    "! nasm -f elf64 asmPromedio.asm -o asmPromedio.o\n",
    "! gcc -O0 archivo.c asmPromedio.o -o promedio"
   ]
  },
  {
   "cell_type": "code",
   "execution_count": 73,
   "id": "8bb145a6",
   "metadata": {},
   "outputs": [
    {
     "name": "stdout",
     "output_type": "stream",
     "text": [
      "El promedio en ASM es: 49.5613\r\n",
      "El tiempo de asmPromedio es: 7.0000 us\r\n",
      "El promedio en C es: 49.5613\r\n",
      "El tiempo de cPromedio es: 21.0000 us\r\n"
     ]
    }
   ],
   "source": [
    "! ./promedio"
   ]
  },
  {
   "cell_type": "code",
   "execution_count": null,
   "id": "7dea0042",
   "metadata": {},
   "outputs": [],
   "source": [
    "! rm .c\n",
    "! rm .asm"
   ]
  }
 ],
 "metadata": {
  "kernelspec": {
   "display_name": "Python 3 (ipykernel)",
   "language": "python",
   "name": "python3"
  },
  "language_info": {
   "codemirror_mode": {
    "name": "ipython",
    "version": 3
   },
   "file_extension": ".py",
   "mimetype": "text/x-python",
   "name": "python",
   "nbconvert_exporter": "python",
   "pygments_lexer": "ipython3",
   "version": "3.8.10"
  }
 },
 "nbformat": 4,
 "nbformat_minor": 5
}
